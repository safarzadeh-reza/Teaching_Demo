{
  "cells": [
    {
      "cell_type": "markdown",
      "metadata": {
        "id": "view-in-github",
        "colab_type": "text"
      },
      "source": [
        "<a href=\"https://colab.research.google.com/github/safarzadeh-reza/Teaching_Demo/blob/main/google_colab_jumpstart.ipynb\" target=\"_parent\"><img src=\"https://colab.research.google.com/assets/colab-badge.svg\" alt=\"Open In Colab\"/></a>"
      ]
    },
    {
      "cell_type": "markdown",
      "id": "252fb8d1-ee72-4d67-9840-54684b32ad37",
      "metadata": {
        "id": "252fb8d1-ee72-4d67-9840-54684b32ad37",
        "tags": []
      },
      "source": [
        "### Reza Safarzadeh\n",
        "\n",
        "\n",
        "\n",
        "## 🔗 Links\n",
        "\n",
        "[![linkedin](https://img.shields.io/badge/LinkedIn-0A66C2?style=for-the-badge&logo=linkedin&logoColor=white)](https://www.linkedin.com/in/safarzadehreza)\n",
        "\n",
        "[![Youtube](https://img.shields.io/badge/youtube_channel-1DA1F2?style=for-the-badge&logo=youtube&logoColor=white&color=FF0000)](https://www.youtube.com/@rezasafarzadeh5632)\n",
        "\n",
        "\n",
        "---\n",
        "---\n"
      ]
    },
    {
      "cell_type": "markdown",
      "id": "64e689f4-94b0-4604-b914-05b28cd7813a",
      "metadata": {
        "id": "64e689f4-94b0-4604-b914-05b28cd7813a"
      },
      "source": [
        "# Integration with Drive\n",
        "\n",
        "Colaboratory is integrated with Google Drive. It allows you to share, comment, and collaborate on the same document with multiple people:\n",
        "\n",
        "* The **SHARE** button (top-right of the toolbar) allows you to share the notebook and control permissions set on it.\n",
        "\n",
        "* **File->Save a Copy in Drive** creates a copy of the notebook in Drive.\n"
      ]
    },
    {
      "cell_type": "markdown",
      "id": "2bc3034b-5e48-4fde-b0a4-ca9aea6e0a41",
      "metadata": {
        "id": "2bc3034b-5e48-4fde-b0a4-ca9aea6e0a41"
      },
      "source": [
        "---\n",
        "\n",
        "# Cells\n",
        "A notebook is a list of cells. Cells contain either explanatory text or executable code and its output. Click a cell to select it.\n",
        "\n",
        "## Code cells\n",
        "Below is a **code cell**. Once the toolbar button indicates CONNECTED, click in the cell to select it and execute the contents in the following ways:\n",
        "\n",
        "* Click the **Play icon** in the left gutter of the cell;\n",
        "* Type **Cmd/Ctrl+Enter** to run the cell in place;\n",
        "* Type **Shift+Enter** to run the cell and move focus to the next cell (adding one if none exists); or\n",
        "* Type **Alt+Enter** to run the cell and insert a new code cell immediately below it.\n",
        "\n",
        "There are additional options for running some or all cells in the **Runtime** menu."
      ]
    },
    {
      "cell_type": "code",
      "execution_count": null,
      "id": "4852d01e-497b-4a42-b83a-a04f862dc9fa",
      "metadata": {
        "id": "4852d01e-497b-4a42-b83a-a04f862dc9fa"
      },
      "outputs": [],
      "source": [
        "a=10\n",
        "a"
      ]
    },
    {
      "cell_type": "markdown",
      "id": "9b01251b-d481-423b-8915-b3c3a411607a",
      "metadata": {
        "id": "9b01251b-d481-423b-8915-b3c3a411607a"
      },
      "source": [
        "## Text cells\n",
        "This is a **text cell**. You can **double-click** to edit this cell. Text cells\n",
        "use markdown syntax. To learn more, see our [markdown\n",
        "guide](https://colab.research.google.com/notebooks/markdown_guide.ipynb).\n",
        "\n",
        "You can also add math to text cells using [LaTeX](http://www.latex-project.org/)\n",
        "to be rendered by [MathJax](https://www.mathjax.org). Just place the statement\n",
        "within a pair of **\\$** signs. For example `$\\sqrt{3x-1}+(1+x)^2$` becomes\n",
        "$\\sqrt{3x-1}+(1+x)^2.$\n",
        "\n",
        "or using two dollar signs to center an equation like this:\n",
        "$$y= \\beta_0 + \\beta_1 x_1 + \\beta_2 x_2 + \\epsilon $$\n",
        "\n"
      ]
    },
    {
      "cell_type": "markdown",
      "id": "d3833880-e851-4735-b904-68e409ef00f6",
      "metadata": {
        "id": "d3833880-e851-4735-b904-68e409ef00f6"
      },
      "source": [
        "## Adding and moving cells\n",
        "You can add new cells by using the **+ CODE** and **+ TEXT** buttons that show when you hover between cells. These buttons are also in the toolbar above the notebook where they can be used to add a cell below the currently selected cell.\n",
        "\n",
        "You can move a cell by selecting it and clicking **Cell Up** or **Cell Down** in the top toolbar.\n",
        "\n",
        "Consecutive cells can be selected by \"lasso selection\" by dragging from outside one cell and through the group.  Non-adjacent cells can be selected concurrently by clicking one and then holding down Ctrl while clicking another.  Similarly, using Shift instead of Ctrl will select all intermediate cells."
      ]
    },
    {
      "cell_type": "markdown",
      "id": "2b4e1d8a-b057-45c1-a720-69ed5336a28b",
      "metadata": {
        "id": "2b4e1d8a-b057-45c1-a720-69ed5336a28b"
      },
      "source": [
        "---\n",
        "# Working with python\n",
        "Colaboratory is built on top of [Jupyter Notebook](https://jupyter.org/). Below are some examples of convenience functions provided."
      ]
    },
    {
      "cell_type": "code",
      "execution_count": null,
      "id": "3fa12131-6a0f-4acf-bce8-ce1733958dc8",
      "metadata": {
        "id": "3fa12131-6a0f-4acf-bce8-ce1733958dc8"
      },
      "outputs": [],
      "source": [
        "print(\"hello world\")"
      ]
    },
    {
      "cell_type": "code",
      "execution_count": null,
      "id": "92689eb1-0dd1-4506-b328-c36064f2a53e",
      "metadata": {
        "id": "92689eb1-0dd1-4506-b328-c36064f2a53e"
      },
      "outputs": [],
      "source": [
        "x = 1\n",
        "y = 4\n",
        "z = y/(1-x)"
      ]
    },
    {
      "cell_type": "markdown",
      "id": "134c73d2-dd3e-4702-b11e-9b50e1d91dbe",
      "metadata": {
        "id": "134c73d2-dd3e-4702-b11e-9b50e1d91dbe"
      },
      "source": [
        "## Using AI Assitants to help coding\n",
        "Colab provides AI assistant to help you improve and speed up your Python coding. This example shows how we can use AI assistant to help us \"write a function to calculate the sum of two numbers\"."
      ]
    },
    {
      "cell_type": "code",
      "execution_count": null,
      "id": "79790574",
      "metadata": {
        "id": "79790574"
      },
      "outputs": [],
      "source": []
    },
    {
      "cell_type": "markdown",
      "id": "zoDQ2ov-4RsT",
      "metadata": {
        "id": "zoDQ2ov-4RsT"
      },
      "source": [
        "---\n",
        "\n",
        "# Loading and saving data from external sources:"
      ]
    },
    {
      "cell_type": "markdown",
      "id": "e6e4069b-43ee-46e8-af3b-e64d2de7c786",
      "metadata": {
        "id": "e6e4069b-43ee-46e8-af3b-e64d2de7c786"
      },
      "source": [
        "\n",
        "## 1. Uploading files from your local file system\n",
        "\n",
        "`files.upload` returns a dictionary of the files which were uploaded.\n",
        "The dictionary is keyed by the file name and values are the data which were uploaded."
      ]
    },
    {
      "cell_type": "code",
      "execution_count": null,
      "id": "d288b6a7-6d23-4e75-89a8-6ddd3ace3a7f",
      "metadata": {
        "id": "d288b6a7-6d23-4e75-89a8-6ddd3ace3a7f"
      },
      "outputs": [],
      "source": [
        "from google.colab import files\n",
        "uploaded = files.upload()\n"
      ]
    },
    {
      "cell_type": "markdown",
      "id": "aab29e8a-6370-4797-ac05-68c1834dd549",
      "metadata": {
        "id": "aab29e8a-6370-4797-ac05-68c1834dd549"
      },
      "source": [
        "Reminder: the uploaded files will be removed after each VM reconnect!"
      ]
    },
    {
      "cell_type": "markdown",
      "id": "8da9c423-32d9-412b-b6cb-e0958325937a",
      "metadata": {
        "id": "8da9c423-32d9-412b-b6cb-e0958325937a"
      },
      "source": [
        "---\n",
        "\n",
        "## 2. Google Drive\n",
        "\n",
        "You can access files in Drive in a number of ways, including:\n",
        "- Mounting your Google Drive in the runtime's virtual machine\n",
        "- Using a wrapper around the API such as [PyDrive](https://pythonhosted.org/PyDrive/)\n",
        "- Using the [native REST API](https://developers.google.com/drive/v3/web/about-sdk)\n",
        "\n",
        "\n",
        "we will cover the first way here, for the other methods, visit: https://colab.research.google.com/notebooks/io.ipynb#scrollTo=D78AM1fFt2ty"
      ]
    },
    {
      "cell_type": "markdown",
      "id": "9b677d0e-d0c5-4b41-b17a-6b2694bf2916",
      "metadata": {
        "id": "9b677d0e-d0c5-4b41-b17a-6b2694bf2916"
      },
      "source": [
        "### Mounting Google Drive locally\n",
        "\n",
        "The example below shows how to mount your Google Drive on your runtime using an authorization code, and how to write and read files there. Once executed, you will be able to see the new file (`foo.txt`) at [https://drive.google.com/](https://drive.google.com/).\n",
        "\n",
        "This only supports reading, writing, and moving files; to programmatically modify sharing settings or other metadata, use one of the other options below.\n",
        "\n",
        "**Note:** When using the 'Mount Drive' button in the file browser, no authentication codes are necessary for notebooks that have only been edited by the current user."
      ]
    },
    {
      "cell_type": "code",
      "execution_count": null,
      "id": "51a85251-d562-4677-87e2-7441b5036cd5",
      "metadata": {
        "id": "51a85251-d562-4677-87e2-7441b5036cd5"
      },
      "outputs": [],
      "source": [
        "from google.colab import drive\n",
        "drive.mount('/content/drive')"
      ]
    },
    {
      "cell_type": "markdown",
      "id": "7db627a8-28b9-4b80-9773-0e7d1e576c29",
      "metadata": {
        "id": "7db627a8-28b9-4b80-9773-0e7d1e576c29"
      },
      "source": [
        "---\n",
        "## 3. Open files from GitHub\n",
        "\n",
        "To open a file from GitHub, you can clone the repo or fetch the file directly.\n",
        "\n",
        "\n",
        "If you are trying to access files from a private repo, you must use a [GitHub access token](https://help.github.com/en/articles/creating-a-personal-access-token-for-the-command-line)."
      ]
    },
    {
      "cell_type": "code",
      "execution_count": null,
      "id": "59eb5d6b-51df-4f41-8ee8-aab0584dc236",
      "metadata": {
        "id": "59eb5d6b-51df-4f41-8ee8-aab0584dc236"
      },
      "outputs": [],
      "source": [
        "# Clone main repo.\n",
        "!git clone https://github.com/safarzadeh-reza/Teaching_Demo.git my_repo"
      ]
    },
    {
      "cell_type": "code",
      "execution_count": null,
      "id": "c0e6cb34-8abc-41fb-82f9-0886833cc8de",
      "metadata": {
        "id": "c0e6cb34-8abc-41fb-82f9-0886833cc8de"
      },
      "outputs": [],
      "source": [
        "import pandas as pd"
      ]
    },
    {
      "cell_type": "code",
      "execution_count": null,
      "id": "61055cf7-ff2f-41ec-b385-3bc98ad1e12c",
      "metadata": {
        "id": "61055cf7-ff2f-41ec-b385-3bc98ad1e12c"
      },
      "outputs": [],
      "source": [
        "df = pd.read_csv(\"/content/my_repo/data/sales.csv\")\n",
        "df.head()"
      ]
    },
    {
      "cell_type": "markdown",
      "id": "d517d2f8-f71b-4c19-8640-5e9dfa62202d",
      "metadata": {
        "id": "d517d2f8-f71b-4c19-8640-5e9dfa62202d"
      },
      "source": [
        "# Resources\n",
        "\n",
        "1. Google Colab documentation\n",
        "    * https://colab.research.google.com/notebooks/basic_features_overview.ipynb#scrollTo=d-S-3nYLQSHb\n",
        "    * https://colab.research.google.com/notebooks/io.ipynb#scrollTo=D78AM1fFt2ty\n",
        "    * https://colab.research.google.com/notebooks/snippets/accessing_files.ipynb#scrollTo=Zg2cF_2-gI67\n",
        "    * https://colab.research.google.com/notebooks/snippets/importing_libraries.ipynb"
      ]
    }
  ],
  "metadata": {
    "colab": {
      "name": "Copy of google_colab_jumpstart.ipynb",
      "provenance": [],
      "toc_visible": true,
      "include_colab_link": true
    },
    "kernelspec": {
      "display_name": "Python 3 (ipykernel)",
      "language": "python",
      "name": "python3"
    },
    "language_info": {
      "codemirror_mode": {
        "name": "ipython",
        "version": 3
      },
      "file_extension": ".py",
      "mimetype": "text/x-python",
      "name": "python",
      "nbconvert_exporter": "python",
      "pygments_lexer": "ipython3",
      "version": "3.9.7"
    }
  },
  "nbformat": 4,
  "nbformat_minor": 5
}