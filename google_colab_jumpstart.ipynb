{
 "cells": [
  {
   "cell_type": "markdown",
   "id": "f202985b",
   "metadata": {
    "colab_type": "text",
    "id": "view-in-github"
   },
   "source": [
    "<a href=\"https://colab.research.google.com/github/safarzadeh-reza/Teaching_Demo/blob/main/google_colab_jumpstart.ipynb\" target=\"_parent\"><img src=\"https://colab.research.google.com/assets/colab-badge.svg\" alt=\"Open In Colab\"/></a>"
   ]
  },
  {
   "cell_type": "markdown",
   "id": "252fb8d1-ee72-4d67-9840-54684b32ad37",
   "metadata": {
    "id": "252fb8d1-ee72-4d67-9840-54684b32ad37",
    "tags": []
   },
   "source": [
    "### Reza Safarzadeh\n",
    "\n",
    "\n",
    "\n",
    "## 🔗 Links\n",
    "\n",
    "[![linkedin](https://img.shields.io/badge/LinkedIn-0A66C2?style=for-the-badge&logo=linkedin&logoColor=white)](https://www.linkedin.com/in/safarzadehreza)\n",
    "\n",
    "[![Youtube](https://img.shields.io/badge/youtube_channel-1DA1F2?style=for-the-badge&logo=youtube&logoColor=white&color=FF0000)](https://www.youtube.com/@rezasafarzadeh5632)\n",
    "\n",
    "\n",
    "---\n",
    "---\n"
   ]
  },
  {
   "cell_type": "markdown",
   "id": "2bc3034b-5e48-4fde-b0a4-ca9aea6e0a41",
   "metadata": {
    "id": "2bc3034b-5e48-4fde-b0a4-ca9aea6e0a41"
   },
   "source": [
    "---\n",
    "\n",
    "# Cells\n",
    "A notebook is a list of cells. Cells contain either explanatory text or executable code and its output. Click a cell to select it.\n",
    "\n",
    "## Code cells\n",
    "Below is a **code cell**. Once the toolbar button indicates CONNECTED, click in the cell to select it and execute the contents in the following ways:\n"
   ]
  },
  {
   "cell_type": "code",
   "execution_count": null,
   "id": "4852d01e-497b-4a42-b83a-a04f862dc9fa",
   "metadata": {
    "id": "4852d01e-497b-4a42-b83a-a04f862dc9fa"
   },
   "outputs": [],
   "source": [
    "a=10\n",
    "a"
   ]
  },
  {
   "cell_type": "markdown",
   "id": "9b01251b-d481-423b-8915-b3c3a411607a",
   "metadata": {
    "id": "9b01251b-d481-423b-8915-b3c3a411607a"
   },
   "source": [
    "## Text cells\n",
    "This is a **text cell**. You can **double-click** to edit this cell. Text cells\n",
    "use markdown syntax. To learn more, see our [markdown\n",
    "guide](https://colab.research.google.com/notebooks/markdown_guide.ipynb).\n",
    "\n",
    "You can also add math to text cells using [LaTeX](http://www.latex-project.org/)\n",
    "to be rendered by [MathJax](https://www.mathjax.org). Just place the statement\n",
    "within a pair of **\\$** signs. For example `$\\sqrt{3x-1}+(1+x)^2$` becomes\n",
    "$\\sqrt{3x-1}+(1+x)^2.$\n",
    "\n",
    "or using two dollar signs to center an equation like this:\n",
    "$$y= \\beta_0 + \\beta_1 x_1 + \\beta_2 x_2 + \\epsilon $$\n",
    "\n"
   ]
  },
  {
   "cell_type": "markdown",
   "id": "2b4e1d8a-b057-45c1-a720-69ed5336a28b",
   "metadata": {
    "id": "2b4e1d8a-b057-45c1-a720-69ed5336a28b"
   },
   "source": [
    "---\n",
    "# Working with python\n",
    "Colaboratory is built on top of [Jupyter Notebook](https://jupyter.org/). Below are some examples of convenience functions provided."
   ]
  },
  {
   "cell_type": "code",
   "execution_count": 1,
   "id": "2e9d3d03-c6ac-488b-b745-29eb5ee6ccf9",
   "metadata": {},
   "outputs": [
    {
     "name": "stdout",
     "output_type": "stream",
     "text": [
      "Hello, I am Reza!\n"
     ]
    }
   ],
   "source": [
    "print(\"Hello, I am Reza!\")"
   ]
  },
  {
   "cell_type": "code",
   "execution_count": null,
   "id": "3fa12131-6a0f-4acf-bce8-ce1733958dc8",
   "metadata": {
    "id": "3fa12131-6a0f-4acf-bce8-ce1733958dc8"
   },
   "outputs": [],
   "source": [
    "print(\"hello world\")"
   ]
  },
  {
   "cell_type": "markdown",
   "id": "134c73d2-dd3e-4702-b11e-9b50e1d91dbe",
   "metadata": {
    "id": "134c73d2-dd3e-4702-b11e-9b50e1d91dbe"
   },
   "source": [
    "## Using AI Assitants to help coding\n",
    "Colab provides AI assistant to help you improve and speed up your Python coding. This example shows how we can use AI assistant to help us \"write a function to calculate the sum of two numbers\"."
   ]
  },
  {
   "cell_type": "code",
   "execution_count": null,
   "id": "79790574",
   "metadata": {
    "id": "79790574"
   },
   "outputs": [],
   "source": []
  },
  {
   "cell_type": "code",
   "execution_count": null,
   "id": "92689eb1-0dd1-4506-b328-c36064f2a53e",
   "metadata": {
    "id": "92689eb1-0dd1-4506-b328-c36064f2a53e"
   },
   "outputs": [],
   "source": [
    "x = 1\n",
    "y = 4\n",
    "z = y/(1-x)"
   ]
  },
  {
   "cell_type": "markdown",
   "id": "zoDQ2ov-4RsT",
   "metadata": {
    "id": "zoDQ2ov-4RsT"
   },
   "source": [
    "---\n",
    "\n",
    "# Loading files from GitHub:"
   ]
  },
  {
   "cell_type": "markdown",
   "id": "7db627a8-28b9-4b80-9773-0e7d1e576c29",
   "metadata": {
    "id": "7db627a8-28b9-4b80-9773-0e7d1e576c29"
   },
   "source": [
    "---\n",
    "\n",
    "To open a file from GitHub, you can clone the repo or fetch the file directly.\n",
    "\n",
    "\n",
    "If you are trying to access files from a private repo, you must use a [GitHub access token](https://help.github.com/en/articles/creating-a-personal-access-token-for-the-command-line)."
   ]
  },
  {
   "cell_type": "code",
   "execution_count": 9,
   "id": "59eb5d6b-51df-4f41-8ee8-aab0584dc236",
   "metadata": {
    "id": "59eb5d6b-51df-4f41-8ee8-aab0584dc236"
   },
   "outputs": [],
   "source": [
    "# Clone main repo.\n",
    "!git clone https://github.com/safarzadeh-reza/Teaching_Demo.git my_repo"
   ]
  },
  {
   "cell_type": "code",
   "execution_count": 6,
   "id": "c0e6cb34-8abc-41fb-82f9-0886833cc8de",
   "metadata": {
    "id": "c0e6cb34-8abc-41fb-82f9-0886833cc8de"
   },
   "outputs": [],
   "source": [
    "import pandas as pd"
   ]
  },
  {
   "cell_type": "code",
   "execution_count": 8,
   "id": "61055cf7-ff2f-41ec-b385-3bc98ad1e12c",
   "metadata": {
    "id": "61055cf7-ff2f-41ec-b385-3bc98ad1e12c"
   },
   "outputs": [],
   "source": [
    "df = pd.read_csv(\"/content/my_repo/data/sales.csv\")\n",
    "df.head()"
   ]
  },
  {
   "cell_type": "markdown",
   "id": "d517d2f8-f71b-4c19-8640-5e9dfa62202d",
   "metadata": {
    "id": "d517d2f8-f71b-4c19-8640-5e9dfa62202d"
   },
   "source": [
    "# Resources\n",
    "\n",
    "1. Google Colab documentation\n",
    "    * https://colab.research.google.com/notebooks/basic_features_overview.ipynb#scrollTo=d-S-3nYLQSHb\n",
    "    * https://colab.research.google.com/notebooks/io.ipynb#scrollTo=D78AM1fFt2ty\n",
    "    * https://colab.research.google.com/notebooks/snippets/accessing_files.ipynb#scrollTo=Zg2cF_2-gI67\n",
    "    * https://colab.research.google.com/notebooks/snippets/importing_libraries.ipynb"
   ]
  }
 ],
 "metadata": {
  "colab": {
   "include_colab_link": true,
   "name": "Copy of google_colab_jumpstart.ipynb",
   "provenance": []
  },
  "kernelspec": {
   "display_name": "Python 3 (ipykernel)",
   "language": "python",
   "name": "python3"
  },
  "language_info": {
   "codemirror_mode": {
    "name": "ipython",
    "version": 3
   },
   "file_extension": ".py",
   "mimetype": "text/x-python",
   "name": "python",
   "nbconvert_exporter": "python",
   "pygments_lexer": "ipython3",
   "version": "3.12.3"
  }
 },
 "nbformat": 4,
 "nbformat_minor": 5
}
